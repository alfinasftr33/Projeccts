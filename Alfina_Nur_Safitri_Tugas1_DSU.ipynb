{
  "cells": [
    {
      "cell_type": "code",
      "execution_count": null,
      "metadata": {
        "id": "wIMi1TOxvx7h"
      },
      "outputs": [],
      "source": [
        "import numpy as np\n",
        "import pandas as pd"
      ]
    },
    {
      "cell_type": "code",
      "execution_count": null,
      "metadata": {
        "id": "vkC7F_RXvx7l"
      },
      "outputs": [],
      "source": [
        "data_profil = pd.read_csv('C:/Users/USER/Downloads/data_profil.csv')\n",
        "catatan_lokasi = pd.read_csv('C:/Users/USER/Downloads/catatan_lokasi.csv')"
      ]
    },
    {
      "cell_type": "code",
      "execution_count": null,
      "metadata": {
        "id": "mNIkj8sAvx7m",
        "outputId": "b4fac908-b81a-4a7d-9c1d-788d82b1186c"
      },
      "outputs": [
        {
          "data": {
            "text/html": [
              "<div>\n",
              "<style scoped>\n",
              "    .dataframe tbody tr th:only-of-type {\n",
              "        vertical-align: middle;\n",
              "    }\n",
              "\n",
              "    .dataframe tbody tr th {\n",
              "        vertical-align: top;\n",
              "    }\n",
              "\n",
              "    .dataframe thead th {\n",
              "        text-align: right;\n",
              "    }\n",
              "</style>\n",
              "<table border=\"1\" class=\"dataframe\">\n",
              "  <thead>\n",
              "    <tr style=\"text-align: right;\">\n",
              "      <th></th>\n",
              "      <th>id</th>\n",
              "      <th>jenis_kelamin</th>\n",
              "      <th>divisi</th>\n",
              "      <th>umur</th>\n",
              "    </tr>\n",
              "  </thead>\n",
              "  <tbody>\n",
              "    <tr>\n",
              "      <td>0</td>\n",
              "      <td>1</td>\n",
              "      <td>Laki-laki</td>\n",
              "      <td>Customer Service</td>\n",
              "      <td>34</td>\n",
              "    </tr>\n",
              "    <tr>\n",
              "      <td>1</td>\n",
              "      <td>2</td>\n",
              "      <td>Laki-laki</td>\n",
              "      <td>Data Engineer</td>\n",
              "      <td>26</td>\n",
              "    </tr>\n",
              "    <tr>\n",
              "      <td>2</td>\n",
              "      <td>3</td>\n",
              "      <td>Laki-laki</td>\n",
              "      <td>Software Engineer</td>\n",
              "      <td>28</td>\n",
              "    </tr>\n",
              "    <tr>\n",
              "      <td>3</td>\n",
              "      <td>4</td>\n",
              "      <td>Perempuan</td>\n",
              "      <td>Business Intelligence</td>\n",
              "      <td>21</td>\n",
              "    </tr>\n",
              "    <tr>\n",
              "      <td>4</td>\n",
              "      <td>5</td>\n",
              "      <td>Perempuan</td>\n",
              "      <td>Software Engineer</td>\n",
              "      <td>21</td>\n",
              "    </tr>\n",
              "  </tbody>\n",
              "</table>\n",
              "</div>"
            ],
            "text/plain": [
              "   id jenis_kelamin                 divisi  umur\n",
              "0   1     Laki-laki       Customer Service    34\n",
              "1   2     Laki-laki          Data Engineer    26\n",
              "2   3     Laki-laki      Software Engineer    28\n",
              "3   4     Perempuan  Business Intelligence    21\n",
              "4   5     Perempuan      Software Engineer    21"
            ]
          },
          "execution_count": 3,
          "metadata": {},
          "output_type": "execute_result"
        }
      ],
      "source": [
        "data_profil.head()"
      ]
    },
    {
      "cell_type": "code",
      "execution_count": null,
      "metadata": {
        "id": "E87UDCwSvx7o",
        "outputId": "12ae628f-35b2-46f4-a30f-db2142bf8381"
      },
      "outputs": [
        {
          "data": {
            "text/html": [
              "<div>\n",
              "<style scoped>\n",
              "    .dataframe tbody tr th:only-of-type {\n",
              "        vertical-align: middle;\n",
              "    }\n",
              "\n",
              "    .dataframe tbody tr th {\n",
              "        vertical-align: top;\n",
              "    }\n",
              "\n",
              "    .dataframe thead th {\n",
              "        text-align: right;\n",
              "    }\n",
              "</style>\n",
              "<table border=\"1\" class=\"dataframe\">\n",
              "  <thead>\n",
              "    <tr style=\"text-align: right;\">\n",
              "      <th></th>\n",
              "      <th>id</th>\n",
              "      <th>tanggal</th>\n",
              "      <th>lokasi_dominan</th>\n",
              "    </tr>\n",
              "  </thead>\n",
              "  <tbody>\n",
              "    <tr>\n",
              "      <td>0</td>\n",
              "      <td>1</td>\n",
              "      <td>21/05/19</td>\n",
              "      <td>Jakarta Pusat</td>\n",
              "    </tr>\n",
              "    <tr>\n",
              "      <td>1</td>\n",
              "      <td>2</td>\n",
              "      <td>21/05/19</td>\n",
              "      <td>Kabupaten Bogor</td>\n",
              "    </tr>\n",
              "    <tr>\n",
              "      <td>2</td>\n",
              "      <td>3</td>\n",
              "      <td>21/05/19</td>\n",
              "      <td>Jakarta Pusat</td>\n",
              "    </tr>\n",
              "    <tr>\n",
              "      <td>3</td>\n",
              "      <td>4</td>\n",
              "      <td>21/05/19</td>\n",
              "      <td>Kota Tangerang</td>\n",
              "    </tr>\n",
              "    <tr>\n",
              "      <td>4</td>\n",
              "      <td>5</td>\n",
              "      <td>21/05/19</td>\n",
              "      <td>Kota Bogor</td>\n",
              "    </tr>\n",
              "  </tbody>\n",
              "</table>\n",
              "</div>"
            ],
            "text/plain": [
              "   id   tanggal   lokasi_dominan\n",
              "0   1  21/05/19    Jakarta Pusat\n",
              "1   2  21/05/19  Kabupaten Bogor\n",
              "2   3  21/05/19    Jakarta Pusat\n",
              "3   4  21/05/19   Kota Tangerang\n",
              "4   5  21/05/19       Kota Bogor"
            ]
          },
          "execution_count": 4,
          "metadata": {},
          "output_type": "execute_result"
        }
      ],
      "source": [
        "catatan_lokasi.head()"
      ]
    },
    {
      "cell_type": "code",
      "execution_count": null,
      "metadata": {
        "id": "tgmeXgJhvx7p"
      },
      "outputs": [],
      "source": [
        "data_gabung = pd.merge(data_profil, catatan_lokasi, on='id', how='right')"
      ]
    },
    {
      "cell_type": "code",
      "execution_count": null,
      "metadata": {
        "id": "yXXWy1Lkvx7r",
        "outputId": "b9ee89cf-03c0-40bf-b8a2-dfcb475a890e"
      },
      "outputs": [
        {
          "data": {
            "text/html": [
              "<div>\n",
              "<style scoped>\n",
              "    .dataframe tbody tr th:only-of-type {\n",
              "        vertical-align: middle;\n",
              "    }\n",
              "\n",
              "    .dataframe tbody tr th {\n",
              "        vertical-align: top;\n",
              "    }\n",
              "\n",
              "    .dataframe thead th {\n",
              "        text-align: right;\n",
              "    }\n",
              "</style>\n",
              "<table border=\"1\" class=\"dataframe\">\n",
              "  <thead>\n",
              "    <tr style=\"text-align: right;\">\n",
              "      <th></th>\n",
              "      <th>id</th>\n",
              "      <th>jenis_kelamin</th>\n",
              "      <th>divisi</th>\n",
              "      <th>umur</th>\n",
              "      <th>tanggal</th>\n",
              "      <th>lokasi_dominan</th>\n",
              "    </tr>\n",
              "  </thead>\n",
              "  <tbody>\n",
              "    <tr>\n",
              "      <td>0</td>\n",
              "      <td>1</td>\n",
              "      <td>Laki-laki</td>\n",
              "      <td>Customer Service</td>\n",
              "      <td>34</td>\n",
              "      <td>21/05/19</td>\n",
              "      <td>Jakarta Pusat</td>\n",
              "    </tr>\n",
              "    <tr>\n",
              "      <td>1</td>\n",
              "      <td>1</td>\n",
              "      <td>Laki-laki</td>\n",
              "      <td>Customer Service</td>\n",
              "      <td>34</td>\n",
              "      <td>22/05/19</td>\n",
              "      <td>Jakarta Pusat</td>\n",
              "    </tr>\n",
              "    <tr>\n",
              "      <td>2</td>\n",
              "      <td>1</td>\n",
              "      <td>Laki-laki</td>\n",
              "      <td>Customer Service</td>\n",
              "      <td>34</td>\n",
              "      <td>23/05/19</td>\n",
              "      <td>Jakarta Pusat</td>\n",
              "    </tr>\n",
              "    <tr>\n",
              "      <td>3</td>\n",
              "      <td>1</td>\n",
              "      <td>Laki-laki</td>\n",
              "      <td>Customer Service</td>\n",
              "      <td>34</td>\n",
              "      <td>24/05/19</td>\n",
              "      <td>Kota Bekasi</td>\n",
              "    </tr>\n",
              "    <tr>\n",
              "      <td>4</td>\n",
              "      <td>1</td>\n",
              "      <td>Laki-laki</td>\n",
              "      <td>Customer Service</td>\n",
              "      <td>34</td>\n",
              "      <td>25/05/19</td>\n",
              "      <td>Kota Bekasi</td>\n",
              "    </tr>\n",
              "    <tr>\n",
              "      <td>...</td>\n",
              "      <td>...</td>\n",
              "      <td>...</td>\n",
              "      <td>...</td>\n",
              "      <td>...</td>\n",
              "      <td>...</td>\n",
              "      <td>...</td>\n",
              "    </tr>\n",
              "    <tr>\n",
              "      <td>2595</td>\n",
              "      <td>100</td>\n",
              "      <td>Perempuan</td>\n",
              "      <td>Software Engineer</td>\n",
              "      <td>29</td>\n",
              "      <td>11/06/19</td>\n",
              "      <td>Jakarta Timur</td>\n",
              "    </tr>\n",
              "    <tr>\n",
              "      <td>2596</td>\n",
              "      <td>100</td>\n",
              "      <td>Perempuan</td>\n",
              "      <td>Software Engineer</td>\n",
              "      <td>29</td>\n",
              "      <td>12/06/19</td>\n",
              "      <td>Jakarta Timur</td>\n",
              "    </tr>\n",
              "    <tr>\n",
              "      <td>2597</td>\n",
              "      <td>100</td>\n",
              "      <td>Perempuan</td>\n",
              "      <td>Software Engineer</td>\n",
              "      <td>29</td>\n",
              "      <td>13/06/19</td>\n",
              "      <td>Jakarta Timur</td>\n",
              "    </tr>\n",
              "    <tr>\n",
              "      <td>2598</td>\n",
              "      <td>100</td>\n",
              "      <td>Perempuan</td>\n",
              "      <td>Software Engineer</td>\n",
              "      <td>29</td>\n",
              "      <td>14/06/19</td>\n",
              "      <td>Jakarta Timur</td>\n",
              "    </tr>\n",
              "    <tr>\n",
              "      <td>2599</td>\n",
              "      <td>100</td>\n",
              "      <td>Perempuan</td>\n",
              "      <td>Software Engineer</td>\n",
              "      <td>29</td>\n",
              "      <td>15/06/19</td>\n",
              "      <td>Jakarta Timur</td>\n",
              "    </tr>\n",
              "  </tbody>\n",
              "</table>\n",
              "<p>2600 rows × 6 columns</p>\n",
              "</div>"
            ],
            "text/plain": [
              "       id jenis_kelamin             divisi  umur   tanggal lokasi_dominan\n",
              "0       1     Laki-laki   Customer Service    34  21/05/19  Jakarta Pusat\n",
              "1       1     Laki-laki   Customer Service    34  22/05/19  Jakarta Pusat\n",
              "2       1     Laki-laki   Customer Service    34  23/05/19  Jakarta Pusat\n",
              "3       1     Laki-laki   Customer Service    34  24/05/19    Kota Bekasi\n",
              "4       1     Laki-laki   Customer Service    34  25/05/19    Kota Bekasi\n",
              "...   ...           ...                ...   ...       ...            ...\n",
              "2595  100     Perempuan  Software Engineer    29  11/06/19  Jakarta Timur\n",
              "2596  100     Perempuan  Software Engineer    29  12/06/19  Jakarta Timur\n",
              "2597  100     Perempuan  Software Engineer    29  13/06/19  Jakarta Timur\n",
              "2598  100     Perempuan  Software Engineer    29  14/06/19  Jakarta Timur\n",
              "2599  100     Perempuan  Software Engineer    29  15/06/19  Jakarta Timur\n",
              "\n",
              "[2600 rows x 6 columns]"
            ]
          },
          "execution_count": 6,
          "metadata": {},
          "output_type": "execute_result"
        }
      ],
      "source": [
        "data_gabung"
      ]
    },
    {
      "cell_type": "code",
      "execution_count": null,
      "metadata": {
        "id": "Z5G1GrUhvx7t"
      },
      "outputs": [],
      "source": [
        "data_gabung['tanggal'] = data_gabung['tanggal'].astype(str)\n",
        "data_gabung['lokasi_dominan'] = data_gabung['lokasi_dominan'].astype(str)\n",
        "data_gabung['divisi'] = data_gabung['divisi'].astype(str)"
      ]
    },
    {
      "cell_type": "markdown",
      "metadata": {
        "id": "6sb4Oboxvx7u"
      },
      "source": [
        "## 1. Berapakah umur termuda dari karyawan yang tergabung dalam divisi Data Science?"
      ]
    },
    {
      "cell_type": "code",
      "execution_count": null,
      "metadata": {
        "id": "Y9TZ1U7Nvx7x",
        "outputId": "cd03c2e1-2d2c-463e-cb22-8756e46be18e"
      },
      "outputs": [
        {
          "data": {
            "text/plain": [
              "divisi\n",
              "Business Intelligence    21\n",
              "Customer Service         22\n",
              "Data Engineer            23\n",
              "Data Science             21\n",
              "Marketing                24\n",
              "Software Engineer        21\n",
              "Name: umur, dtype: int64"
            ]
          },
          "execution_count": 10,
          "metadata": {},
          "output_type": "execute_result"
        }
      ],
      "source": [
        "data_profil.groupby('divisi').umur.min()"
      ]
    },
    {
      "cell_type": "markdown",
      "metadata": {
        "id": "88iY95axvx7y"
      },
      "source": [
        "Dapat dilihat berdasarkan data di atas, maka dapat disimpulkan umur termuda dari karyawan yang tergabung dalam divisi Data Science adalah 21 tahun"
      ]
    },
    {
      "cell_type": "markdown",
      "metadata": {
        "id": "wu22R3Jrvx7y"
      },
      "source": [
        "## 2. Divisi apa yang karyawannya paling banyak melakukan mudik?"
      ]
    },
    {
      "cell_type": "code",
      "execution_count": null,
      "metadata": {
        "id": "kjh9i5Rcvx7z",
        "outputId": "2be51906-bb8e-4bba-8a5c-bd82f264f46e"
      },
      "outputs": [
        {
          "data": {
            "text/plain": [
              "Software Engineer        806\n",
              "Business Intelligence    546\n",
              "Customer Service         390\n",
              "Data Engineer            364\n",
              "Data Science             260\n",
              "Marketing                234\n",
              "Name: divisi, dtype: int64"
            ]
          },
          "execution_count": 12,
          "metadata": {},
          "output_type": "execute_result"
        }
      ],
      "source": [
        "data_gabung.divisi.value_counts()"
      ]
    },
    {
      "cell_type": "markdown",
      "metadata": {
        "id": "RCfuhh5Evx7z"
      },
      "source": [
        "Divisi yang karyawannya paling banyak melakukan mudik adalah Software Engineer yaitu sebanyak 806 karyawan"
      ]
    },
    {
      "cell_type": "markdown",
      "metadata": {
        "id": "dapicpL6vx70"
      },
      "source": [
        "## 3. Berapakah median umur dari keseluruhan karyawan Tokolapak?"
      ]
    },
    {
      "cell_type": "code",
      "execution_count": null,
      "metadata": {
        "id": "fKXyYG8Hvx70",
        "outputId": "067666c3-7e59-4b63-9490-bacf8fd52395"
      },
      "outputs": [
        {
          "data": {
            "text/plain": [
              "27.0"
            ]
          },
          "execution_count": 11,
          "metadata": {},
          "output_type": "execute_result"
        }
      ],
      "source": [
        "data_profil['umur'].median()"
      ]
    },
    {
      "cell_type": "markdown",
      "metadata": {
        "id": "ylQFTfMhvx70"
      },
      "source": [
        "Median umur dari keseluruhan karyawan Tokolapak adalah 27"
      ]
    },
    {
      "cell_type": "markdown",
      "metadata": {
        "id": "Cput3F9yvx71"
      },
      "source": [
        "## 4. Tanggal berapakah menjadi hari favorit karyawan Tokolapak pulang ke Jabodetabek?"
      ]
    },
    {
      "cell_type": "code",
      "execution_count": null,
      "metadata": {
        "id": "bxVExwjtvx71",
        "outputId": "de8012fe-fef0-485b-ee96-41faf88245c8"
      },
      "outputs": [
        {
          "data": {
            "text/plain": [
              "15/06/19    100\n",
              "14/06/19    100\n",
              "21/05/19    100\n",
              "22/05/19    100\n",
              "25/05/19     98\n",
              "24/05/19     98\n",
              "12/06/19     98\n",
              "11/06/19     98\n",
              "23/05/19     97\n",
              "13/06/19     97\n",
              "27/05/19     95\n",
              "26/05/19     95\n",
              "28/05/19     91\n",
              "10/06/19     81\n",
              "29/05/19     81\n",
              "30/05/19     66\n",
              "09/06/19     66\n",
              "31/05/19     42\n",
              "01/06/19     27\n",
              "02/06/19     17\n",
              "08/06/19     17\n",
              "05/06/19      9\n",
              "06/06/19      9\n",
              "07/06/19      9\n",
              "04/06/19      9\n",
              "03/06/19      7\n",
              "Name: tanggal, dtype: int64"
            ]
          },
          "execution_count": 17,
          "metadata": {},
          "output_type": "execute_result"
        }
      ],
      "source": [
        "data_gabung.tanggal[data_gabung.lokasi_dominan.isin(['Kota Depok',\n",
        "                                              'Kota Bekasi',\n",
        "                                              'Jakarta Timur',\n",
        "                                              'Jakarta Selatan',\n",
        "                                              'Jakarta Pusat',\n",
        "                                              'Jakarta Utara',\n",
        "                                              'Jakarta Barat',\n",
        "                                              'Kota Bogor',\n",
        "                                              'Kota Tangerang',\n",
        "                                              'Kabupaten Bekasi',\n",
        "                                              'Kota Tangerang Selatan',\n",
        "                                              'Kabupaten Tangerang',\n",
        "                                              'Kabupaten Bogor'])].value_counts()"
      ]
    },
    {
      "cell_type": "markdown",
      "metadata": {
        "id": "aKvXZHdSvx71"
      },
      "source": [
        "Dapat dilihat berdasarkan data di atas, hari favorit karyawan Tokolapak pulang ke Jabodetabek yaitu pada tanggal 21 Mei 2019, 22 Mei 2019, 14 Juni 2019, dan 15 Juni 2019"
      ]
    },
    {
      "cell_type": "markdown",
      "metadata": {
        "id": "mRKKLZlmvx71"
      },
      "source": [
        "## 5. Berapa jumlah karyawan yang mudik dan tergabung dalam Divisi Data Science?"
      ]
    },
    {
      "cell_type": "code",
      "execution_count": null,
      "metadata": {
        "id": "R-IcTimuvx72",
        "outputId": "fb1e0b53-9b58-4873-9a7a-45f5a059ca3b"
      },
      "outputs": [
        {
          "data": {
            "text/plain": [
              "Software Engineer        806\n",
              "Business Intelligence    546\n",
              "Customer Service         390\n",
              "Data Engineer            364\n",
              "Data Science             260\n",
              "Marketing                234\n",
              "Name: divisi, dtype: int64"
            ]
          },
          "execution_count": 18,
          "metadata": {},
          "output_type": "execute_result"
        }
      ],
      "source": [
        "data_gabung.divisi.value_counts()"
      ]
    },
    {
      "cell_type": "markdown",
      "metadata": {
        "id": "5sIt5uBYvx72"
      },
      "source": [
        "Maka jumlah karyawan yang mudik dan tergabung dalam Divisi Data Science adalah sebanyak 260 karyawan"
      ]
    },
    {
      "cell_type": "markdown",
      "metadata": {
        "id": "SW8-ODnqvx72"
      },
      "source": [
        "## 6. Berapakah umur karyawan yang paling senior dari karyawan yang tergabung dalam divisi Data Engineer?"
      ]
    },
    {
      "cell_type": "code",
      "execution_count": null,
      "metadata": {
        "id": "HXcLJkCNvx72",
        "outputId": "ce9adb37-6ea4-48f2-8879-29e7fa641372"
      },
      "outputs": [
        {
          "data": {
            "text/plain": [
              "divisi\n",
              "Business Intelligence    35\n",
              "Customer Service         35\n",
              "Data Engineer            35\n",
              "Data Science             35\n",
              "Marketing                35\n",
              "Software Engineer        34\n",
              "Name: umur, dtype: int64"
            ]
          },
          "execution_count": 19,
          "metadata": {},
          "output_type": "execute_result"
        }
      ],
      "source": [
        "data_profil.groupby('divisi').umur.max()"
      ]
    },
    {
      "cell_type": "markdown",
      "metadata": {
        "id": "RXk8sShDvx73"
      },
      "source": [
        "Umur karyawan yang paling senior dari karyawan yang tergabung dalam divisi Data Engineer adalah 35 tahun"
      ]
    },
    {
      "cell_type": "markdown",
      "metadata": {
        "id": "BiTVDqT_vx73"
      },
      "source": [
        "## 7. Berapa jumlah karyawan TokoLapak?"
      ]
    },
    {
      "cell_type": "code",
      "execution_count": null,
      "metadata": {
        "id": "vJOxGBAVvx73",
        "outputId": "8f3e5150-f862-4f0a-ad62-27eb91e17633"
      },
      "outputs": [
        {
          "data": {
            "text/plain": [
              "array([  1,   2,   3,   4,   5,   6,   7,   8,   9,  10,  11,  12,  13,\n",
              "        14,  15,  16,  17,  18,  19,  20,  21,  22,  23,  24,  25,  26,\n",
              "        27,  28,  29,  30,  31,  32,  33,  34,  35,  36,  37,  38,  39,\n",
              "        40,  41,  42,  43,  44,  45,  46,  47,  48,  49,  50,  51,  52,\n",
              "        53,  54,  55,  56,  57,  58,  59,  60,  61,  62,  63,  64,  65,\n",
              "        66,  67,  68,  69,  70,  71,  72,  73,  74,  75,  76,  77,  78,\n",
              "        79,  80,  81,  82,  83,  84,  85,  86,  87,  88,  89,  90,  91,\n",
              "        92,  93,  94,  95,  96,  97,  98,  99, 100], dtype=int64)"
            ]
          },
          "execution_count": 20,
          "metadata": {},
          "output_type": "execute_result"
        }
      ],
      "source": [
        "Iis_id_karyawan = data_gabung.id.unique()\n",
        "Iis_id_karyawan"
      ]
    },
    {
      "cell_type": "code",
      "execution_count": null,
      "metadata": {
        "id": "MFedTD48vx73",
        "outputId": "1b402e52-0ec4-4efb-eb38-33093d1a7c4b"
      },
      "outputs": [
        {
          "data": {
            "text/plain": [
              "100"
            ]
          },
          "execution_count": 22,
          "metadata": {},
          "output_type": "execute_result"
        }
      ],
      "source": [
        "len(Iis_id_karyawan)"
      ]
    },
    {
      "cell_type": "markdown",
      "metadata": {
        "id": "JgA6UCmZvx74"
      },
      "source": [
        "Jumlah karyawan TokoLapak ada sebanyak 100 karyawan"
      ]
    },
    {
      "cell_type": "markdown",
      "metadata": {
        "id": "vpHwqcWlvx74"
      },
      "source": [
        "## 8. Kabupaten/Kota manakah yang menjadi tujuan mudik terbanyak?"
      ]
    },
    {
      "cell_type": "code",
      "execution_count": null,
      "metadata": {
        "id": "BscBR43wvx74",
        "outputId": "02121286-d697-48f6-dc32-ac0fac74e841"
      },
      "outputs": [
        {
          "data": {
            "text/plain": [
              "Kota Depok                   177\n",
              "Kota Bekasi                  165\n",
              "Jakarta Timur                163\n",
              "Kota Bogor                   155\n",
              "Jakarta Barat                155\n",
              "Jakarta Pusat                145\n",
              "Kota Tangerang               127\n",
              "Kabupaten Bekasi             122\n",
              "Kabupaten Sleman             120\n",
              "Kota Yogyakarta              117\n",
              "Kota Tangerang Selatan       116\n",
              "Jakarta Selatan              105\n",
              "Jakarta Utara                100\n",
              "Kabupaten Bogor               98\n",
              "Kota Medan                    85\n",
              "Kota Padang                   81\n",
              "Kabupaten Tangerang           79\n",
              "Kabupaten Wonogiri            71\n",
              "Kabupaten Bantul              68\n",
              "Kabupaten Lampung Selatan     61\n",
              "Kota Bandar Lampung           58\n",
              "Kota Bandung                  54\n",
              "Kota Surabaya                 52\n",
              "Kota Semarang                 41\n",
              "Kabupaten Tasikmalaya         35\n",
              "Kota Manado                   33\n",
              "Kota Banda Aceh               10\n",
              "Kabupaten Kebumen              7\n",
              "Name: lokasi_dominan, dtype: int64"
            ]
          },
          "execution_count": 26,
          "metadata": {},
          "output_type": "execute_result"
        }
      ],
      "source": [
        "data_gabung['lokasi_dominan'].value_counts()"
      ]
    },
    {
      "cell_type": "markdown",
      "metadata": {
        "id": "ERWRX71Lvx74"
      },
      "source": [
        "Kota Depok merupakan tujuan mudik terbanyak yaitu sebanyak 177"
      ]
    },
    {
      "cell_type": "markdown",
      "metadata": {
        "id": "XKR28bENvx75"
      },
      "source": [
        "## 9. Divisi apakah yang semua anggotanya mudik?"
      ]
    },
    {
      "cell_type": "code",
      "execution_count": null,
      "metadata": {
        "id": "OcFGfFegvx75"
      },
      "outputs": [],
      "source": [
        "# Belum cukup data untuk menyimpulkan pertanyaan ini, tetapi bisa dibilang semua divisi melakukan mudik"
      ]
    },
    {
      "cell_type": "markdown",
      "metadata": {
        "id": "aUiSTRI0vx75"
      },
      "source": [
        "## 10. Kabupaten/Kota manakah yang menjadi tujuan mudik paling sedikit?"
      ]
    },
    {
      "cell_type": "code",
      "execution_count": null,
      "metadata": {
        "id": "P-RCkaVGvx75",
        "outputId": "87f5b45d-d081-4cf7-cabd-a6e577e0edfd"
      },
      "outputs": [
        {
          "data": {
            "text/plain": [
              "Kota Depok                   177\n",
              "Kota Bekasi                  165\n",
              "Jakarta Timur                163\n",
              "Kota Bogor                   155\n",
              "Jakarta Barat                155\n",
              "Jakarta Pusat                145\n",
              "Kota Tangerang               127\n",
              "Kabupaten Bekasi             122\n",
              "Kabupaten Sleman             120\n",
              "Kota Yogyakarta              117\n",
              "Kota Tangerang Selatan       116\n",
              "Jakarta Selatan              105\n",
              "Jakarta Utara                100\n",
              "Kabupaten Bogor               98\n",
              "Kota Medan                    85\n",
              "Kota Padang                   81\n",
              "Kabupaten Tangerang           79\n",
              "Kabupaten Wonogiri            71\n",
              "Kabupaten Bantul              68\n",
              "Kabupaten Lampung Selatan     61\n",
              "Kota Bandar Lampung           58\n",
              "Kota Bandung                  54\n",
              "Kota Surabaya                 52\n",
              "Kota Semarang                 41\n",
              "Kabupaten Tasikmalaya         35\n",
              "Kota Manado                   33\n",
              "Kota Banda Aceh               10\n",
              "Kabupaten Kebumen              7\n",
              "Name: lokasi_dominan, dtype: int64"
            ]
          },
          "execution_count": 28,
          "metadata": {},
          "output_type": "execute_result"
        }
      ],
      "source": [
        "data_gabung['lokasi_dominan'].value_counts()"
      ]
    },
    {
      "cell_type": "markdown",
      "metadata": {
        "id": "wguILi2Wvx76"
      },
      "source": [
        "Kabupaten Kebumen merupakan Kabupaten/Kota yang menjadi tujuan mudik paling sedikit yaitu 7"
      ]
    },
    {
      "cell_type": "markdown",
      "metadata": {
        "id": "lxft5X80vx76"
      },
      "source": [
        "## 11. Di hari apakah yang menjadi hari favorit (paling banyak) karyawan Tokolapak melakukan mudik? Asumsikan waktu yang dibutuhkan untuk mudik kurang dari 1 hari, dan apabila dia mulai berada di luar Jabodetabek pada hari tersebut, maka hari tersebutlah yang menjadi dominan lokasi seseorang mudik."
      ]
    },
    {
      "cell_type": "code",
      "execution_count": null,
      "metadata": {
        "id": "jmkFtJkgvx78",
        "outputId": "05ff7ccc-b9d5-4774-fa21-c3d2afe4ce93"
      },
      "outputs": [
        {
          "data": {
            "text/plain": [
              "04/06/19    100\n",
              "26/05/19    100\n",
              "24/05/19    100\n",
              "13/06/19    100\n",
              "07/06/19    100\n",
              "08/06/19    100\n",
              "09/06/19    100\n",
              "27/05/19    100\n",
              "01/06/19    100\n",
              "22/05/19    100\n",
              "29/05/19    100\n",
              "02/06/19    100\n",
              "31/05/19    100\n",
              "23/05/19    100\n",
              "03/06/19    100\n",
              "12/06/19    100\n",
              "25/05/19    100\n",
              "28/05/19    100\n",
              "10/06/19    100\n",
              "21/05/19    100\n",
              "05/06/19    100\n",
              "30/05/19    100\n",
              "15/06/19    100\n",
              "11/06/19    100\n",
              "06/06/19    100\n",
              "14/06/19    100\n",
              "Name: tanggal, dtype: int64"
            ]
          },
          "execution_count": 14,
          "metadata": {},
          "output_type": "execute_result"
        }
      ],
      "source": [
        "# Datanya belum cukup untuk menjawab spesifik untuk hal ini,\n",
        "data_gabung['tanggal'].value_counts()"
      ]
    },
    {
      "cell_type": "markdown",
      "metadata": {
        "id": "FzzUwah6vx8D"
      },
      "source": [
        "Jika diasumsikan data benar, maka semua hari adalah hari favorit"
      ]
    },
    {
      "cell_type": "markdown",
      "metadata": {
        "id": "MlDSSC5xvx8D"
      },
      "source": [
        "## 12. Divisi apakah yang persentase pemudiknya paling sedikit?"
      ]
    },
    {
      "cell_type": "code",
      "execution_count": null,
      "metadata": {
        "id": "bahQmXOgvx8D",
        "outputId": "75af3598-afbe-4ea5-ed32-100e8b189408"
      },
      "outputs": [
        {
          "data": {
            "text/plain": [
              "Software Engineer        806\n",
              "Business Intelligence    546\n",
              "Customer Service         390\n",
              "Data Engineer            364\n",
              "Data Science             260\n",
              "Marketing                234\n",
              "Name: divisi, dtype: int64"
            ]
          },
          "execution_count": 15,
          "metadata": {},
          "output_type": "execute_result"
        }
      ],
      "source": [
        "# Kita ketahui dulu divisi yang pemudiknya paling sedikit\n",
        "data_gabung.divisi.value_counts()"
      ]
    },
    {
      "cell_type": "markdown",
      "metadata": {
        "id": "cBtEPLmJvx8E"
      },
      "source": [
        "Berdasarkan data di atas, divisi yang pemudiknya paling sedikit adalah Marketing"
      ]
    },
    {
      "cell_type": "code",
      "execution_count": null,
      "metadata": {
        "id": "B0u-TsUJvx8E",
        "outputId": "44e018ed-8979-44f5-acbb-c82beea8b198"
      },
      "outputs": [
        {
          "name": "stdout",
          "output_type": "stream",
          "text": [
            "9.0%\n"
          ]
        }
      ],
      "source": [
        "# diasumsikan kita sudah tau divisi mana yang paling sedikit, kemudian kita hitung persantasenya\n",
        "case = 0\n",
        "for divisi in data_gabung.divisi:\n",
        "    if divisi == \"Marketing\":\n",
        "        case += 1\n",
        "\n",
        "hasil = (case/len(data_gabung['id']))*100\n",
        "print(f'{hasil}%')"
      ]
    },
    {
      "cell_type": "markdown",
      "metadata": {
        "id": "MLf6NRIcvx8E"
      },
      "source": [
        "Sehingga didapat divisi yang persentase pemudiknya paling sedikit adalah Marketing yaitu hanya sebanyak 9%"
      ]
    },
    {
      "cell_type": "markdown",
      "metadata": {
        "id": "QkUZBDtHvx8F"
      },
      "source": [
        "## 13. Divisi apakah yang jumlah pemudiknya paling sedikit"
      ]
    },
    {
      "cell_type": "code",
      "execution_count": null,
      "metadata": {
        "id": "Gbo-xHInvx8F",
        "outputId": "a9309bc2-5038-4a28-c432-0c8ea699c909"
      },
      "outputs": [
        {
          "data": {
            "text/plain": [
              "Software Engineer        806\n",
              "Business Intelligence    546\n",
              "Customer Service         390\n",
              "Data Engineer            364\n",
              "Data Science             260\n",
              "Marketing                234\n",
              "Name: divisi, dtype: int64"
            ]
          },
          "execution_count": 29,
          "metadata": {},
          "output_type": "execute_result"
        }
      ],
      "source": [
        "data_gabung.divisi.value_counts()"
      ]
    },
    {
      "cell_type": "markdown",
      "metadata": {
        "id": "U46KKbhDvx8F"
      },
      "source": [
        "Divisi yang jumlah pemudiknya paling sedikit adalah Divisi Marketing yaitu sebanyak 234 karyawan"
      ]
    }
  ],
  "metadata": {
    "kernelspec": {
      "display_name": "Python 3",
      "language": "python",
      "name": "python3"
    },
    "language_info": {
      "codemirror_mode": {
        "name": "ipython",
        "version": 3
      },
      "file_extension": ".py",
      "mimetype": "text/x-python",
      "name": "python",
      "nbconvert_exporter": "python",
      "pygments_lexer": "ipython3",
      "version": "3.7.4"
    },
    "colab": {
      "provenance": []
    }
  },
  "nbformat": 4,
  "nbformat_minor": 0
}